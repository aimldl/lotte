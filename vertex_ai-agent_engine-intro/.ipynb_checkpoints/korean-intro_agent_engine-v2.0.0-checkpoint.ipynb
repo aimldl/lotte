{
 "cells": [
  {
   "cell_type": "code",
   "execution_count": null,
   "metadata": {
    "id": "ijGzTHJJUCPY"
   },
   "outputs": [],
   "source": [
    "# Copyright 2024 Google LLC\n",
    "#\n",
    "# Licensed under the Apache License, Version 2.0 (the \"License\");\n",
    "# you may not use this file except in compliance with the License.\n",
    "# You may obtain a copy of the License at\n",
    "#\n",
    "#     https://www.apache.org/licenses/LICENSE-2.0\n",
    "#\n",
    "# Unless required by applicable law or agreed to in writing, software\n",
    "# distributed under the License is distributed on an \"AS IS\" BASIS,\n",
    "# WITHOUT WARRANTIES OR CONDITIONS OF ANY KIND, either express or implied.\n",
    "# See the License for the specific language governing permissions and\n",
    "# limitations under the License."
   ]
  },
  {
   "cell_type": "markdown",
   "metadata": {
    "id": "VEqbX8OhE8y9"
   },
   "source": [
    "# Vertex AI의 Agent Engine을 사용해서 Agent 빌드 및 배포하기\n",
    "* Intro to Building and Deploying an Agent with Agent Engine in Vertex AI\n",
    "\n",
    "<table align=\"left\">\n",
    "  <td style=\"text-align: center\">\n",
    "    <a href=\"https://colab.research.google.com/github/GoogleCloudPlatform/generative-ai/blob/main/gemini/agent-engine/intro_agent_engine.ipynb\">\n",
    "      <img src=\"https://cloud.google.com/ml-engine/images/colab-logo-32px.png\" alt=\"Google Colaboratory logo\"><br> Run in Colab\n",
    "    </a>\n",
    "  </td>\n",
    "  <td style=\"text-align: center\">\n",
    "    <a href=\"https://console.cloud.google.com/vertex-ai/colab/import/https:%2F%2Fraw.githubusercontent.com%2FGoogleCloudPlatform%2Fgenerative-ai%2Fmain%2Fgemini%2Fagent-engine%2Fintro_agent_engine.ipynb\">\n",
    "      <img width=\"32px\" src=\"https://lh3.googleusercontent.com/JmcxdQi-qOpctIvWKgPtrzZdJJK-J3sWE1RsfjZNwshCFgE_9fULcNpuXYTilIR2hjwN\" alt=\"Google Cloud Colab Enterprise logo\"><br> Run in Colab Enterprise\n",
    "    </a>\n",
    "  </td>      \n",
    "  <td style=\"text-align: center\">\n",
    "    <a href=\"https://github.com/GoogleCloudPlatform/generative-ai/blob/main/gemini/agent-engine/intro_agent_engine.ipynb\">\n",
    "      <img src=\"https://cloud.google.com/ml-engine/images/github-logo-32px.png\" alt=\"GitHub logo\"><br> View on GitHub\n",
    "    </a>\n",
    "  </td>\n",
    "  <td style=\"text-align: center\">\n",
    "    <a href=\"https://console.cloud.google.com/vertex-ai/workbench/deploy-notebook?download_url=https://raw.githubusercontent.com/GoogleCloudPlatform/generative-ai/main/gemini/agent-engine/intro_agent_engine.ipynb\">\n",
    "      <img src=\"https://lh3.googleusercontent.com/UiNooY4LUgW_oTvpsNhPpQzsstV5W8F7rYgxgGBD85cWJoLmrOzhVs_ksK_vgx40SHs7jCqkTkCk=e14-rj-sc0xffffff-h130-w32\" alt=\"Vertex AI logo\"><br> Open in Vertex AI Workbench\n",
    "    </a>\n",
    "  </td>\n",
    "  <td style=\"text-align: center\">\n",
    "    <a href=\"https://goo.gle/4jeQzJW\">\n",
    "      <img width=\"32px\" src=\"https://cdn.qwiklabs.com/assets/gcp_cloud-e3a77215f0b8bfa9b3f611c0d2208c7e8708ed31.svg\" alt=\"Google Cloud logo\"><br> Open in  Cloud Skills Boost\n",
    "    </a>\n",
    "  </td>\n",
    "</table>\n",
    "\n",
    "<div style=\"clear: both;\"></div>\n",
    "\n",
    "<b>Share to:</b>\n",
    "\n",
    "<a href=\"https://www.linkedin.com/sharing/share-offsite/?url=https%3A//github.com/GoogleCloudPlatform/generative-ai/blob/main/gemini/agent-engine/intro_agent_engine.ipynb\" target=\"_blank\">\n",
    "  <img width=\"20px\" src=\"https://upload.wikimedia.org/wikipedia/commons/8/81/LinkedIn_icon.svg\" alt=\"LinkedIn logo\">\n",
    "</a>\n",
    "\n",
    "<a href=\"https://bsky.app/intent/compose?text=https%3A//github.com/GoogleCloudPlatform/generative-ai/blob/main/gemini/agent-engine/intro_agent_engine.ipynb\" target=\"_blank\">\n",
    "  <img width=\"20px\" src=\"https://upload.wikimedia.org/wikipedia/commons/7/7a/Bluesky_Logo.svg\" alt=\"Bluesky logo\">\n",
    "</a>\n",
    "\n",
    "<a href=\"https://twitter.com/intent/tweet?url=https%3A//github.com/GoogleCloudPlatform/generative-ai/blob/main/gemini/agent-engine/intro_agent_engine.ipynb\" target=\"_blank\">\n",
    "  <img width=\"20px\" src=\"https://upload.wikimedia.org/wikipedia/commons/5/5a/X_icon_2.svg\" alt=\"X logo\">\n",
    "</a>\n",
    "\n",
    "<a href=\"https://reddit.com/submit?url=https%3A//github.com/GoogleCloudPlatform/generative-ai/blob/main/gemini/agent-engine/intro_agent_engine.ipynb\" target=\"_blank\">\n",
    "  <img width=\"20px\" src=\"https://redditinc.com/hubfs/Reddit%20Inc/Brand/Reddit_Logo.png\" alt=\"Reddit logo\">\n",
    "</a>\n",
    "\n",
    "<a href=\"https://www.facebook.com/sharer/sharer.php?u=https%3A//github.com/GoogleCloudPlatform/generative-ai/blob/main/gemini/agent-engine/intro_agent_engine.ipynb\" target=\"_blank\">\n",
    "  <img width=\"20px\" src=\"https://upload.wikimedia.org/wikipedia/commons/5/51/Facebook_f_logo_%282019%29.svg\" alt=\"Facebook logo\">\n",
    "</a>            \n"
   ]
  },
  {
   "cell_type": "markdown",
   "metadata": {},
   "source": [
    "|                     |                                                      |\n",
    "|---------------------|------------------------------------------------------|\n",
    "| Author(s)           | [Kristopher Overholt](https://github.com/koverholt)    |\n",
    "| Korean version      | [T Kim](https://github.com/aimldl)                     |"
   ]
  },
  {
   "cell_type": "markdown",
   "metadata": {
    "id": "DrkcqHrrwMAo"
   },
   "source": [
    "## 목표\n",
    "- 이번 핸즈온 랩에서는 Python용 Vertex AI SDK를 사용해서 에이전트(모델, 도구 및 추론)를 빌드하고 배포하는 방법을 학습합니다.\n",
    "    - 대규모 언어모델: Gemini 2.0 Flash\n",
    "    - 도구: Python 함수\n",
    "    - 오케스트레이션: LangChain\n",
    "\n",
    "### 진행할 작업\n",
    "- Python용 Vertex AI SDK 설치\n",
    "- Vertex AI SDK를 사용하여 간단한 에이전트의 구성 요소를 빌드\n",
    "- 배포 전 로컬 테스트. (로컬환경에서 에이전트가 잘 동작하는지 확인)\n",
    "- Vertex AI에 배포 및 테스트 (리모트 환경에 에이전트를 배포하고 확인)\n",
    "- 맞춤/커스텀으로 에이전트의 각 계층인 모델, 도구, 오케스트레이션을 설정하기"
   ]
  },
  {
   "cell_type": "markdown",
   "metadata": {
    "id": "C9nEPojogw-g"
   },
   "source": [
    "### 비용\n",
    "Google Cloud의 Vertex AI는 유료입니다.\n",
    "- [Vertex AI 가격](https://cloud.google.com/vertex-ai/pricing?hl=ko)을 참고하세요.\n",
    "- 예상 사용량을 알고 계시면 [가격 계산기](https://cloud.google.com/products/calculator/)로 비용 견적을 계산해볼 수 있습니다."
   ]
  },
  {
   "cell_type": "markdown",
   "metadata": {
    "id": "CkHPv2myT2cx"
   },
   "source": [
    "## 개요\n",
    "### 문제 > 대규모 언어 모델(LLM)의 한계\n",
    "LLM이 상용화되며 다양한 분야에 적용되며 여러가지 문제를 해결하는 데 효과적인 것이 검증되었습니다.\n",
    "하지만 이 과정에서 아래와 같은 단점이 발견됐습니다.\n",
    "1. 오래된 지식: LLM은 학습 후 고정되므로, 이후에 생성된 최신 지식을 반영하지 못 합니다.\n",
    "2. 외부 데이터 접근 불가: 외부 데이터를 쿼리하거나 수정할 수 없습니다.\n",
    "\n",
    "### 해법 > 왜 함수 호출인가?\n",
    "- 이런 LLM의 단점을 해결하는 방안 중 하나로 함수 호출이 제안됐습니다.\n",
    "- 함수 호출은 도구 사용 (tool use)라고도 합니다. 모델이 외부의 도구 (API 및 함수)를 사용할 수 있기 때문입니다.\n",
    "\n",
    "#### Gemini\n",
    "Gemini는 Google DeepMind에서 개발한 생성형 AI 모델 제품군으로, 멀티모달 사용 사례를 위해 설계되었습니다.\n",
    "\n",
    "[지원되는 모델](https://cloud.google.com/vertex-ai/generative-ai/docs/multimodal/function-calling?hl=ko#supported_models)\n",
    "다음 모델은 함수 호출 지원을 제공합니다.\n",
    "\n",
    "| 모델                 | 병렬 함수 호출 | 강제 함수 호출 |\n",
    "|----------------------|----------------|----------------|\n",
    "| Gemini 2.0 Flash     | ✓              | ✓              |\n",
    "| Gemini 2.0 Flash-Lite | ✓              | ✓              |\n",
    "\n",
    "### 함수 호출\n",
    "- 함수 호출은 LLM이 미리 정의된 외부 함수나 API를 활용해서, 학습 데이터를 넘어선 정보를 참조하거나 특정 작업을 수행하도록 하는 기능입니다. \n",
    "- 이를 통해 LLM은 실시간 정보에 접근하고 외부 시스템과 상호작용하며 그 한계를 효과적으로 보완할 수 있게 됩니다.\n",
    "- 자세한 내용은 [함수 호출 (Function calling)](https://cloud.google.com/vertex-ai/docs/generative-ai/multimodal/function-calling?hl=ko)을 참고하세요.\n",
    "\n",
    "#### 예시 > LLM이 get_weather 함수를 호출\n",
    "LLM이 get_weather라는 날씨 조회 함수를 사용하는 과정을 통해 함수 호출의 작동 방식을 단계별로 살펴보겠습니다.\n",
    "\n",
    "1. 사용자 질문 및 LLM의 함수 사용 결정\n",
    "- 사용자가 LLM에게 \"오늘 서울 날씨 어때?\"와 같이 실시간 정보가 필요한 질문을 합니다.\n",
    "- LLM은 질문에 답하기 위해 외부의 날씨 정보를 가져올 수 있는 get_weather 함수를 사용해야 한다고 판단합니다.\n",
    "\n",
    "2. LLM의 실행 요청 생성 (함수 직접 호출이 아님)\n",
    "- LLM이 JSON 응답이 담긴 텍스트 응답을 생성해서 사용자에게 답변합니다.\n",
    "- 예를 들어, \n",
    "```json\n",
    "{\n",
    "  \"function_name\": \"get_weather\",\n",
    "  \"parameters\": {\n",
    "    \"location\": \"서울\"\n",
    "  }\n",
    "}\n",
    "```\n",
    "\n",
    "- LLM은 사용자의 시스템 혹은 애플리케이션이 수행할 명확한 지시사항을 담은 구조화된 데이터를 생성합니다.\n",
    "  - 어떤 함수를 어떤 인자(parameter)로 호출하는지 명확히 지시합니다.\n",
    "  - 구조화된 데이터는 일반적으로 JSON 형식입니다.\n",
    "  - [중요] LLM이 get_weather 함수를 직접 실행하지 않습니다.\n",
    "\n",
    "3. 사용자 시스템의 외부 함수/API 실제 호출\n",
    "- 사용자의 시스템은 LLM이 생성한 JSON 데이터를 해석합니다.\n",
    "- \"서울\"이라는 위치 정보를 가지고, get_weather 함수를 실행합니다.\n",
    "- get_weather함수는 외부의 날씨 정보 서비스 API에 해당 지역의 날씨 데이터를 요청합니다.\n",
    "- 이 API 호출을 통해 \"서울: 22°C, 맑음\"과 같은 정보를 획득합니다.\n",
    "\n",
    "4. 사용자 시스템은 외부 API 호출 결과를 LLM에 전달. LLM은 최종 답변 생성\n",
    "- 외부 API에서 받은 실제 날씨 정보(\"서울: 22°C, 맑음\")를 LLM에 전달합니다.\n",
    "- LLM은 이 정보를 바탕으로 사용자의 원래 질문에 대한 최종 답변을 문장으로 생성합니다.\n",
    "- 예: \"오늘 서울의 날씨는 맑고, 현재 기온은 22°C입니다.\"\n",
    "\n"
   ]
  },
  {
   "cell_type": "markdown",
   "metadata": {},
   "source": [
    "### [함수 호출의 사용 사례](https://cloud.google.com/vertex-ai/generative-ai/docs/multimodal/function-calling?hl=ko#use-cases)\n",
    "\n",
    "| 사용 사례                      | 예시                                                                                                                                                                                                                                                                                         |\n",
    "| :----------------------------- | :------------------------------------------------------------------------------------------------------------------------------------------------------------------------------------------------------------------------------------------------------------------------------------------- |\n",
    "| 외부 API 호출                  | - 기상청 API에서 날씨 정보 가져오기 ([노트북 튜토리얼](https://github.com/GoogleCloudPlatform/generative-ai/blob/main/gemini/function-calling/intro_function_calling.ipynb))<br>- 환율 API로 통화 변환 ([Codelab](https://codelabs.developers.google.com/codelabs/gemini-function-calling?hl=ko))<br>- 주소를 위도/경도 좌표로 변환 ([노트북 튜토리얼](https://github.com/GoogleCloudPlatform/generative-ai/blob/main/gemini/function-calling/intro_function_calling.ipynb)) |\n",
    "| 함수 호출 구성 및 제어           | - 원시 로그 데이터에서 구조화된 항목 추출 ([노트북 튜토리얼](https://github.com/GoogleCloudPlatform/generative-ai/blob/main/gemini/function-calling/intro_function_calling.ipynb))<br>- 사용자 입력에서 단일 또는 여러 파라미터 추출 ([노트북 튜토리얼](https://github.com/GoogleCloudPlatform/generative-ai/blob/main/gemini/function-calling/function_calling_data_structures.ipynb))<br>- 함수 호출에서 목록 및 중첩된 데이터 구조 처리 ([노트북 튜토리얼](https://github.com/GoogleCloudPlatform/generative-ai/blob/main/gemini/function-calling/function_calling_data_structures.ipynb)) |\n",
    "| 함수 호출 동작 처리              | - 병렬 함수 호출 및 응답 처리 ([노트북 튜토리얼](https://github.com/GoogleCloudPlatform/generative-ai/blob/main/gemini/function-calling/parallel_function_calling.ipynb))<br>- 모델이 호출할 수 있는 함수 및 시기 관리 ([노트북 튜토리얼](https://github.com/GoogleCloudPlatform/generative-ai/blob/main/gemini/function-calling/forced_function_calling.ipynb)) |\n",
    "| 자연어를 이용한 데이터베이스 쿼리 | - 자연어 질문을 BigQuery용 SQL 쿼리로 변환 ([샘플 앱](https://github.com/GoogleCloudPlatform/generative-ai/tree/main/gemini/function-calling/sql-talk-app))                                                                                                                                    |\n",
    "| 멀티모달 함수 호출               | - 이미지, 동영상, 오디오, PDF를 입력으로 사용하여 함수 호출 트리거 ([노트북 튜토리얼](https://github.com/GoogleCloudPlatform/generative-ai/blob/main/gemini/function-calling/multimodal_function_calling.ipynb))                                                                                             |\n",
    "| 고급 챗봇 빌드                 | - 제품 및 서비스에 대한 고객 질문 답변 ([노트북 튜토리얼](https://github.com/GoogleCloudPlatform/generative-ai/blob/main/gemini/function-calling/intro_function_calling.ipynb))<br>- 회사에 대한 재무 및 소식 질문에 답변하는 어시스턴트 만들기 ([노트북 튜토리얼](https://github.com/GoogleCloudPlatform/generative-ai/blob/main/gemini/function-calling/use_case_company_news_and_insights.ipynb)) |"
   ]
  },
  {
   "cell_type": "markdown",
   "metadata": {},
   "source": [
    "### 함수 호출 > 요약\n",
    "- LLM은 함수 호출을 통해 자신의 학습 데이터에 없는 최신 정보를 활용하거나, 외부 시스템과의 상호작용을 통해 사용자의 다양한 요구에 보다 정확하고 풍부한 답변을 제공할 수 있게 됩니다.\n",
    "- LLM이 함수를 직접 실행하는 것이 아니라 구조화된 데이터를 생성해서 사용자, 즉 개발자의 시스템이 사용/해석 가능한 포맷으로 수행할 지시사항을 '요청'합니다."
   ]
  },
  {
   "cell_type": "markdown",
   "metadata": {},
   "source": [
    "### 용어 > 동의어\n",
    "> - 일반 명사: 대규모 언어 모델, LLM, 생성형 모델, 혹은 줄여서 모델.\n",
    "> - 고유 명사: Gemini, Gemma, ChatGPT, Llama 등\n",
    "\n"
   ]
  },
  {
   "cell_type": "markdown",
   "metadata": {},
   "source": [
    "### Vertex AI의 Agent Engine\n",
    "[Agent Engine](https://cloud.google.com/vertex-ai/generative-ai/docs/agent-engine/overview)은\n",
    "에이전트 프레임워크를 빌드하고 배포하는 데 도움이 되는 관리형 서비스입니다.\n",
    "\n",
    "<img width=\"60%\" src=\"https://storage.googleapis.com/github-repo/generative-ai/gemini/agent-engine/images/agent-engine-overview.png\" alt=\"Agent Engine on Vertex AI\" />"
   ]
  },
  {
   "cell_type": "markdown",
   "metadata": {},
   "source": [
    "1. [Gemini 함수 호출](https://cloud.google.com/vertex-ai/generative-ai/docs/multimodal/function-calling?hl=ko)의 도구로 사용될 Python 함수를 정의할 수 있습니다.\n",
    "2. 에이전트, 모델, 도구를 정의하고, 프롬프트 및 예제를 모듈식으로 관리할 수 있습니다.\n",
    "- Vertex AI의 Python SDK를 통해 Gemini 모델을 사용할 수 있습니다.\n",
    "3. Vertex AI에 배포할 수 있습니다.\n",
    "- LangChain, LlamaIndex 또는 기타 Python 프레임워크와 호환됩니다.\n",
    "- LLM에 위임할 추론 (reasoning)의 양과 맞춤형 코드로 처리할 양을 유연하게 선택할 수 있도록 지원합니다.\n"
   ]
  },
  {
   "cell_type": "markdown",
   "metadata": {
    "id": "r11Gu7qNgx1p"
   },
   "source": [
    "## 시작하기"
   ]
  },
  {
   "cell_type": "markdown",
   "metadata": {
    "id": "No17Cw5hgx12"
   },
   "source": [
    "### Python용 GenAI SDK 설치하기\n",
    "- Python용 GenAI SDK 최신 버전, LangChain, Agent Engine 및 종속된 관련 패키지를 설치합니다.\n",
    "- 참고: 종속된 관련 패키지를 설치할 때, pip 패키지 오류가 발생하면 셀을 다시 실행하세요."
   ]
  },
  {
   "cell_type": "code",
   "execution_count": 1,
   "metadata": {
    "id": "tFy3H3aPgx12",
    "tags": []
   },
   "outputs": [
    {
     "name": "stdout",
     "output_type": "stream",
     "text": [
      "Note: you may need to restart the kernel to use updated packages.\n",
      "\u001b[31mERROR: pip's dependency resolver does not currently take into account all the packages that are installed. This behaviour is the source of the following dependency conflicts.\n",
      "kfp 2.5.0 requires requests-toolbelt<1,>=0.8.0, but you have requests-toolbelt 1.0.0 which is incompatible.\u001b[0m\u001b[31m\n",
      "\u001b[0mNote: you may need to restart the kernel to use updated packages.\n",
      "Note: you may need to restart the kernel to use updated packages.\n"
     ]
    }
   ],
   "source": [
    "%pip install --upgrade --quiet google-genai\n",
    "%pip install --upgrade --quiet langchain\n",
    "%pip install --upgrade --quiet langchain-google-vertexai"
   ]
  },
  {
   "cell_type": "markdown",
   "metadata": {
    "id": "R5Xep4W9lq-Z"
   },
   "source": [
    "### 런타임 재시작\n",
    "- 새로 설치된 패키지를 사용하려면 런타임을 재시작해야 합니다.\n",
    "- 다음 셀을 실행하면 이 Jupyter 런타임에서 커널을 다시 시작합니다."
   ]
  },
  {
   "cell_type": "code",
   "execution_count": 2,
   "metadata": {
    "id": "XRvKdaPDTznN",
    "tags": []
   },
   "outputs": [
    {
     "data": {
      "text/plain": [
       "{'status': 'ok', 'restart': True}"
      ]
     },
     "execution_count": 2,
     "metadata": {},
     "output_type": "execute_result"
    }
   ],
   "source": [
    "# Restart kernel after installs so that your environment can access the new packages\n",
    "import IPython\n",
    "\n",
    "app = IPython.Application.instance()\n",
    "app.kernel.do_shutdown(True)"
   ]
  },
  {
   "cell_type": "markdown",
   "metadata": {
    "id": "SbmM4z7FOBpM"
   },
   "source": [
    "<div class=\"alert alert-block alert-warning\">\n",
    "<b>⚠️ The kernel is going to restart. Please wait until it is finished before continuing to the next step. ⚠️</b>\n",
    "</div>\n"
   ]
  },
  {
   "cell_type": "markdown",
   "metadata": {
    "id": "dmWOrTJ3gx13"
   },
   "source": [
    "### (Colab only) 노트북 환경 인증 \n",
    "- [Vertex AI Workbench](https://cloud.google.com/vertex-ai-workbench)를 사용할 경우 이 단계는 필요하지 않습니다.\n",
    "- Google Colab를 사용할 경우, 다음 셀을 실행해서 이 노트북 환경을 인증하세요."
   ]
  },
  {
   "cell_type": "code",
   "execution_count": 3,
   "metadata": {
    "id": "NyKGtVQjgx13"
   },
   "outputs": [],
   "source": [
    "import sys\n",
    "\n",
    "if \"google.colab\" in sys.modules:\n",
    "    from google.colab import auth\n",
    "\n",
    "    auth.authenticate_user()"
   ]
  },
  {
   "cell_type": "markdown",
   "metadata": {
    "id": "DF4l8DTdWgPY"
   },
   "source": [
    "### [설정] Google Cloud 프로젝트 정보 설정 및 Vertex AI SDK 초기화\n",
    "- Google Cloud의 프로젝트를 생성해야 합니다.\n",
    "- Vertex AI를 사용하려면 Vertex AI API를 활성화해야 합니다.\n",
    "\n",
    "자세한 내용은 [프로젝트 및 개발 환경 설정](https://cloud.google.com/vertex-ai/docs/start/cloud-environment)하는 방법을 참고하세요."
   ]
  },
  {
   "cell_type": "markdown",
   "metadata": {},
   "source": [
    "#### [Vertex AI API를 활성화](https://console.cloud.google.com/flows/enableapi?apiid=aiplatform.googleapis.com)\n",
    "https://console.cloud.google.com/flows/enableapi?apiid=aiplatform.googleapis.com"
   ]
  },
  {
   "cell_type": "markdown",
   "metadata": {},
   "source": [
    "<img src=\"images/google_cloud-enable_the_vertex_ai_api-1.png\">"
   ]
  },
  {
   "cell_type": "markdown",
   "metadata": {},
   "source": [
    "<img src=\"images/google_cloud-enable_the_vertex_ai_api-2.png\">"
   ]
  },
  {
   "cell_type": "markdown",
   "metadata": {},
   "source": [
    "- 프로젝트 관련 정보를 설정합니다.\n",
    "\n",
    "```\n",
    "PROJECT_ID = \"[your-project-id]\"  # @param {type:\"string\"}\n",
    "LOCATION = \"[your-region]\"  # @param {type:\"string\"}\n",
    "STAGING_BUCKET = \"gs://[your-staging-bucket]\"  # @param {type:\"string\"}\n",
    "```"
   ]
  },
  {
   "cell_type": "code",
   "execution_count": 1,
   "metadata": {
    "id": "Nqwi-5ufWp_B",
    "tags": []
   },
   "outputs": [
    {
     "ename": "ModuleNotFoundError",
     "evalue": "No module named 'vertexai'",
     "output_type": "error",
     "traceback": [
      "\u001b[0;31m---------------------------------------------------------------------------\u001b[0m",
      "\u001b[0;31mModuleNotFoundError\u001b[0m                       Traceback (most recent call last)",
      "Cell \u001b[0;32mIn[1], line 5\u001b[0m\n\u001b[1;32m      2\u001b[0m LOCATION \u001b[38;5;241m=\u001b[39m \u001b[38;5;124m\"\u001b[39m\u001b[38;5;124meurope-west1\u001b[39m\u001b[38;5;124m\"\u001b[39m\n\u001b[1;32m      3\u001b[0m STAGING_BUCKET \u001b[38;5;241m=\u001b[39m \u001b[38;5;124m\"\u001b[39m\u001b[38;5;124mgs://qwiklabs-gcp-00-c4b13648302b-labconfig-bucket\u001b[39m\u001b[38;5;124m\"\u001b[39m\n\u001b[0;32m----> 5\u001b[0m \u001b[38;5;28;01mimport\u001b[39;00m\u001b[38;5;250m \u001b[39m\u001b[38;5;21;01mvertexai\u001b[39;00m\n\u001b[1;32m      7\u001b[0m vertexai\u001b[38;5;241m.\u001b[39minit(project\u001b[38;5;241m=\u001b[39mPROJECT_ID, location\u001b[38;5;241m=\u001b[39mLOCATION, staging_bucket\u001b[38;5;241m=\u001b[39mSTAGING_BUCKET)\n",
      "\u001b[0;31mModuleNotFoundError\u001b[0m: No module named 'vertexai'"
     ]
    }
   ],
   "source": [
    "PROJECT_ID = \"qwiklabs-gcp-00-c4b13648302b\"\n",
    "LOCATION = \"europe-west1\"\n",
    "STAGING_BUCKET = \"gs://qwiklabs-gcp-00-c4b13648302b-labconfig-bucket\"\n",
    "\n",
    "import vertexai\n",
    "\n",
    "vertexai.init(project=PROJECT_ID, location=LOCATION, staging_bucket=STAGING_BUCKET)"
   ]
  },
  {
   "cell_type": "markdown",
   "metadata": {
    "id": "1e5c96372296"
   },
   "source": [
    "## [예시] 에이전트 빌드 및 배포하기"
   ]
  },
  {
   "cell_type": "markdown",
   "metadata": {
    "id": "jXHfaVS66_01"
   },
   "source": [
    "### 라이브러리 가져오기"
   ]
  },
  {
   "cell_type": "code",
   "execution_count": 2,
   "metadata": {
    "id": "lslYAvw37JGQ",
    "tags": []
   },
   "outputs": [],
   "source": [
    "from vertexai import agent_engines\n",
    "from vertexai.preview.reasoning_engines import LangchainAgent"
   ]
  },
  {
   "cell_type": "markdown",
   "metadata": {
    "id": "43c61bf4c3f5"
   },
   "source": [
    "### 모델 정의하기"
   ]
  },
  {
   "cell_type": "markdown",
   "metadata": {
    "id": "f685ca44c1e9"
   },
   "source": [
    "에이전트를 만들 때 필요한 첫 번째 구성요소는 사용할 생성형 모델입니다.\n",
    "\n",
    "<img width=\"40%\" src=\"https://storage.googleapis.com/github-repo/generative-ai/gemini/agent-engine/images/agent-stack-1.png\" alt=\"Components of an agent in Agent Engine on Vertex AI\" />\n",
    "\n",
    "Gemini 2.0 Flash 모델을 사용합니다."
   ]
  },
  {
   "cell_type": "code",
   "execution_count": 3,
   "metadata": {
    "id": "921890fcb875",
    "tags": []
   },
   "outputs": [],
   "source": [
    "model = \"gemini-2.0-flash\""
   ]
  },
  {
   "cell_type": "markdown",
   "metadata": {
    "id": "60eba5468448"
   },
   "source": [
    "### 도구 (tools) 정의하기 > Python 함수 정의\n",
    "에이전트의 두 번째 구성 요소는 도구 (tools) 입니다.\n",
    "\n",
    "<img width=\"40%\" src=\"https://storage.googleapis.com/github-repo/generative-ai/gemini/agent-engine/images/agent-stack-2.png\" alt=\"Components of an agent in Agent Engine on Vertex AI\" />\n",
    "\n",
    "- 생성형 모델은 도구를 통해 외부 시스템과 상호작용할 수 있습니다.\n",
    "    -  외부 시스템의 예: 기타 API, 데이터베이스, 문서 저장소 등\n",
    "    -  이런 외부 시스템에서 정보를 얻거나, 작업을 수행할 수 있습니다.\n",
    "-  예를 들어, 기상청 API에는 생성형 모델에 없는 최신의 날씨 정보가 있습니다.\n",
    "-  이런 최신 정보를 외부 시스템인 기상청 API에서 얻을 수 있습니다.\n",
    "\n",
    "> 주의: 도구는 영어로 \"tools\"로 복수입니다.\n",
    "> - 즉, 사용자는 하나 또는 여러개의 도구를 제공할 수 있습니다."
   ]
  },
  {
   "cell_type": "markdown",
   "metadata": {},
   "source": [
    "이번 예제에서는 외부 시스템 \"실시간 환율 정보 API\"를 호출하는 `get_exchange_rate` 함수를 정의합니다.\n",
    "- 이 함수는 호출을 위해 `requests` 라이브러리를 사용합니다.\n",
    "- 디폴드 값은 USD와 EUR의 최신 환율을 얻어옵니다."
   ]
  },
  {
   "cell_type": "code",
   "execution_count": 3,
   "metadata": {
    "id": "ff7991bf37bf",
    "tags": []
   },
   "outputs": [],
   "source": [
    "def get_exchange_rate(\n",
    "    currency_from: str = \"USD\",\n",
    "    currency_to: str = \"EUR\",\n",
    "    currency_date: str = \"latest\",\n",
    "):\n",
    "    \"\"\"Retrieves the exchange rate between two currencies on a specified date.\"\"\"\n",
    "    import requests\n",
    "\n",
    "    response = requests.get(\n",
    "        f\"https://api.frankfurter.app/{currency_date}\",\n",
    "        params={\"from\": currency_from, \"to\": currency_to},\n",
    "    )\n",
    "    return response.json()"
   ]
  },
  {
   "cell_type": "markdown",
   "metadata": {},
   "source": [
    "\"실시간 환율 정보 API\"는 https://api.frankfurter.app/{currency_date}를 사용합니다.\n",
    "\n",
    "https://api.frankfurter.app/2025-05-15"
   ]
  },
  {
   "cell_type": "markdown",
   "metadata": {},
   "source": [
    "<img src=\"images/api_for_exchange_rate-https_api_frankfurter_app_2025-05-15.png\">"
   ]
  },
  {
   "cell_type": "markdown",
   "metadata": {
    "id": "971f56c167e7"
   },
   "source": [
    "#### 테스트 > Python 함수의 동작 확인 \n",
    "샘플 입력으로 예상대로 작동하는지 확인합니다.\n",
    "- USD: US Dollar\n",
    "- SEK: Swedish Krona"
   ]
  },
  {
   "cell_type": "code",
   "execution_count": 5,
   "metadata": {
    "id": "4ae49a2ccd2e",
    "tags": []
   },
   "outputs": [
    {
     "data": {
      "text/plain": [
       "{'amount': 1.0, 'base': 'USD', 'date': '2025-05-13', 'rates': {'SEK': 9.7422}}"
      ]
     },
     "execution_count": 5,
     "metadata": {},
     "output_type": "execute_result"
    }
   ],
   "source": [
    "get_exchange_rate(currency_from=\"USD\", currency_to=\"SEK\")"
   ]
  },
  {
   "cell_type": "markdown",
   "metadata": {},
   "source": [
    "- USD: US Dollar\n",
    "- KRW: (South) Korean Won"
   ]
  },
  {
   "cell_type": "code",
   "execution_count": 4,
   "metadata": {},
   "outputs": [
    {
     "data": {
      "text/plain": [
       "{'amount': 1.0, 'base': 'USD', 'date': '2025-05-15', 'rates': {'KRW': 1398.08}}"
      ]
     },
     "execution_count": 4,
     "metadata": {},
     "output_type": "execute_result"
    }
   ],
   "source": [
    "get_exchange_rate(currency_from=\"USD\", currency_to=\"KRW\")"
   ]
  },
  {
   "cell_type": "markdown",
   "metadata": {},
   "source": [
    "<img src=\"images/exchange_rate-google_search-usd-krw.png\">"
   ]
  },
  {
   "cell_type": "markdown",
   "metadata": {
    "id": "35ca52a9021c"
   },
   "source": [
    "### 에이전트 정의하기\n",
    "에이전트의 세 번째 구성 요소는 추론 계층 (reasoning layer)입니다.\n",
    "\n",
    "<img width=\"40%\" src=\"https://storage.googleapis.com/github-repo/generative-ai/gemini/agent-engine/images/agent-stack-3.png\" alt=\"Components of an agent in Agent Engine on Vertex AI\" />\n",
    "\n",
    "- \"사용자가 제공한 도구\"를 에이전트가 사용하는데 도움을 줍니다.\n",
    "\n",
    "> 주의: 도구는 영어로 \"tools\"로 복수입니다.\n",
    "\n",
    "- 이는 최종 사용자가 상위 수준 목표를 달성하는 데 도움이 되도록 제공한 도구를 에이전트가 사용하는 데 도움을 줍니다.\n",
    "\n",
    "\n",
    "The third component of your agent involves adding a reasoning layer, which helps your agent use the tools that you provided to help the end user achieve a higher-level goal.\n",
    "\n",
    "\n",
    "If you were to use Gemini and Function Calling on their own without a reasoning layer, you would need to handle the process of calling functions and APIs in your application code, and you would need to implement retries and additional logic to ensure that your function calling code is resilient to failures and malformed requests.\n",
    "\n",
    "Here, you'll use the LangChain agent template provided in the Vertex AI SDK for Agent Engine, which brings together the model, tools, and reasoning that you've built up so far:"
   ]
  },
  {
   "cell_type": "code",
   "execution_count": 6,
   "metadata": {
    "id": "68bc1b395f9d",
    "tags": []
   },
   "outputs": [],
   "source": [
    "agent = LangchainAgent(\n",
    "    model=model,\n",
    "    tools=[get_exchange_rate],\n",
    "    agent_executor_kwargs={\"return_intermediate_steps\": True},\n",
    ")"
   ]
  },
  {
   "cell_type": "markdown",
   "metadata": {
    "id": "fa3c33f6ec72"
   },
   "source": [
    "Now we can test the model and agent behavior to ensure that it's working as expected before we deploy it:"
   ]
  },
  {
   "cell_type": "markdown",
   "metadata": {
    "id": "68a527f87e42"
   },
   "source": [
    "### Test your agent locally\n",
    "\n",
    "With all of the core components of your agent in place, you can send a prompt to your agent using `.query` to test that it's working as expected, including the intermediate steps that the agent performed between the input prompt and the generated summary output. In the default mode, the agent processes your input and returns the **entire agent output in a single response when complete**:"
   ]
  },
  {
   "cell_type": "code",
   "execution_count": 7,
   "metadata": {
    "id": "e0c5c699de12",
    "tags": []
   },
   "outputs": [
    {
     "name": "stderr",
     "output_type": "stream",
     "text": [
      "Retrying langchain_google_vertexai.chat_models._completion_with_retry.<locals>._completion_with_retry_inner in 4.0 seconds as it raised ResourceExhausted: 429 Resource exhausted. Please try again later. Please refer to https://cloud.google.com/vertex-ai/generative-ai/docs/error-code-429 for more details..\n",
      "Retrying langchain_google_vertexai.chat_models._completion_with_retry.<locals>._completion_with_retry_inner in 4.0 seconds as it raised ResourceExhausted: 429 Resource exhausted. Please try again later. Please refer to https://cloud.google.com/vertex-ai/generative-ai/docs/error-code-429 for more details..\n"
     ]
    },
    {
     "data": {
      "text/plain": [
       "{'input': \"What's the exchange rate from USD to SEK 2025-05-14?\",\n",
       " 'output': 'OK. The exchange rate from USD to SEK on 2025-05-13 is 9.7422. I was only able to retrieve the exchange rate for 2025-05-13.',\n",
       " 'intermediate_steps': [[{'lc': 1,\n",
       "    'type': 'constructor',\n",
       "    'id': ['langchain', 'schema', 'agent', 'ToolAgentAction'],\n",
       "    'kwargs': {'tool': 'get_exchange_rate',\n",
       "     'tool_input': {'currency_date': '2025-05-14',\n",
       "      'currency_from': 'USD',\n",
       "      'currency_to': 'SEK'},\n",
       "     'log': \"\\nInvoking: `get_exchange_rate` with `{'currency_date': '2025-05-14', 'currency_from': 'USD', 'currency_to': 'SEK'}`\\n\\n\\n\",\n",
       "     'type': 'AgentActionMessageLog',\n",
       "     'message_log': [{'lc': 1,\n",
       "       'type': 'constructor',\n",
       "       'id': ['langchain', 'schema', 'messages', 'AIMessageChunk'],\n",
       "       'kwargs': {'content': '',\n",
       "        'additional_kwargs': {'function_call': {'name': 'get_exchange_rate',\n",
       "          'arguments': '{\"currency_date\": \"2025-05-14\", \"currency_from\": \"USD\", \"currency_to\": \"SEK\"}'}},\n",
       "        'response_metadata': {'safety_ratings': [],\n",
       "         'usage_metadata': {},\n",
       "         'finish_reason': 'STOP',\n",
       "         'model_name': 'gemini-2.0-flash'},\n",
       "        'type': 'AIMessageChunk',\n",
       "        'id': 'run--6f911ace-f428-49fc-bc7d-c122ca0ca651',\n",
       "        'tool_calls': [{'name': 'get_exchange_rate',\n",
       "          'args': {'currency_date': '2025-05-14',\n",
       "           'currency_from': 'USD',\n",
       "           'currency_to': 'SEK'},\n",
       "          'id': '584d1711-408f-4c29-a471-82d894289404',\n",
       "          'type': 'tool_call'}],\n",
       "        'usage_metadata': {'input_tokens': 56,\n",
       "         'output_tokens': 26,\n",
       "         'total_tokens': 82},\n",
       "        'tool_call_chunks': [{'name': 'get_exchange_rate',\n",
       "          'args': '{\"currency_date\": \"2025-05-14\", \"currency_from\": \"USD\", \"currency_to\": \"SEK\"}',\n",
       "          'id': '584d1711-408f-4c29-a471-82d894289404',\n",
       "          'index': None,\n",
       "          'type': 'tool_call_chunk'}],\n",
       "        'invalid_tool_calls': []}}],\n",
       "     'tool_call_id': '584d1711-408f-4c29-a471-82d894289404'}},\n",
       "   {'amount': 1.0,\n",
       "    'base': 'USD',\n",
       "    'date': '2025-05-13',\n",
       "    'rates': {'SEK': 9.7422}}]]}"
      ]
     },
     "execution_count": 7,
     "metadata": {},
     "output_type": "execute_result"
    }
   ],
   "source": [
    "from datetime import date\n",
    "today = str(date.today())\n",
    "agent.query(input=f\"What's the exchange rate from USD to SEK {today}?\")"
   ]
  },
  {
   "cell_type": "markdown",
   "metadata": {
    "id": "b1cf06f5fa46"
   },
   "source": [
    "In addition to the default query mode, the `.stream_query` method allows you to **see the agent's intermediate steps and final output from the chain**.\n",
    "\n",
    "Instead of waiting for the agent to complete all sub-tasks, the agent sends back the response in **chunks as it's being generated**:"
   ]
  },
  {
   "cell_type": "code",
   "execution_count": 8,
   "metadata": {
    "id": "7a931f086fc9",
    "tags": []
   },
   "outputs": [
    {
     "name": "stdout",
     "output_type": "stream",
     "text": [
      "\n",
      "------\n",
      "\n",
      "Action:\n",
      "\n",
      "[{'lc': 1, 'type': 'constructor', 'id': ['langchain', 'schema', 'agent', 'ToolAgentAction'], 'kwargs': {'tool': 'get_exchange_rate', 'tool_input': {'currency_from': 'USD', 'currency_date': '2025-05-14', 'currency_to': 'SEK'}, 'log': \"\\nInvoking: `get_exchange_rate` with `{'currency_from': 'USD', 'currency_date': '2025-05-14', 'currency_to': 'SEK'}`\\n\\n\\n\", 'type': 'AgentActionMessageLog', 'message_log': [{'lc': 1, 'type': 'constructor', 'id': ['langchain', 'schema', 'messages', 'AIMessageChunk'], 'kwargs': {'content': '', 'additional_kwargs': {'function_call': {'name': 'get_exchange_rate', 'arguments': '{\"currency_from\": \"USD\", \"currency_date\": \"2025-05-14\", \"currency_to\": \"SEK\"}'}}, 'response_metadata': {'safety_ratings': [], 'usage_metadata': {}, 'finish_reason': 'STOP', 'model_name': 'gemini-2.0-flash'}, 'type': 'AIMessageChunk', 'id': 'run--c69040b0-e2b7-4d98-bd22-50ffbdf1351b', 'tool_calls': [{'name': 'get_exchange_rate', 'args': {'currency_from': 'USD', 'currency_date': '2025-05-14', 'currency_to': 'SEK'}, 'id': '4432b10c-1b9a-495a-9be7-959d336cac44', 'type': 'tool_call'}], 'usage_metadata': {'input_tokens': 56, 'output_tokens': 26, 'total_tokens': 82}, 'tool_call_chunks': [{'name': 'get_exchange_rate', 'args': '{\"currency_from\": \"USD\", \"currency_date\": \"2025-05-14\", \"currency_to\": \"SEK\"}', 'id': '4432b10c-1b9a-495a-9be7-959d336cac44', 'index': None, 'type': 'tool_call_chunk'}], 'invalid_tool_calls': []}}], 'tool_call_id': '4432b10c-1b9a-495a-9be7-959d336cac44'}}]\n",
      "\n",
      "------\n",
      "\n",
      "Message:\n",
      "\n",
      "[{'lc': 1, 'type': 'constructor', 'id': ['langchain', 'schema', 'messages', 'AIMessageChunk'], 'kwargs': {'content': '', 'additional_kwargs': {'function_call': {'name': 'get_exchange_rate', 'arguments': '{\"currency_from\": \"USD\", \"currency_date\": \"2025-05-14\", \"currency_to\": \"SEK\"}'}}, 'response_metadata': {'safety_ratings': [], 'usage_metadata': {}, 'finish_reason': 'STOP', 'model_name': 'gemini-2.0-flash'}, 'type': 'AIMessageChunk', 'id': 'run--c69040b0-e2b7-4d98-bd22-50ffbdf1351b', 'tool_calls': [{'name': 'get_exchange_rate', 'args': {'currency_from': 'USD', 'currency_date': '2025-05-14', 'currency_to': 'SEK'}, 'id': '4432b10c-1b9a-495a-9be7-959d336cac44', 'type': 'tool_call'}], 'usage_metadata': {'input_tokens': 56, 'output_tokens': 26, 'total_tokens': 82}, 'tool_call_chunks': [{'name': 'get_exchange_rate', 'args': '{\"currency_from\": \"USD\", \"currency_date\": \"2025-05-14\", \"currency_to\": \"SEK\"}', 'id': '4432b10c-1b9a-495a-9be7-959d336cac44', 'index': None, 'type': 'tool_call_chunk'}], 'invalid_tool_calls': []}}]\n",
      "\n",
      "------\n",
      "\n",
      "Message:\n",
      "\n",
      "[{'lc': 1, 'type': 'constructor', 'id': ['langchain', 'schema', 'messages', 'FunctionMessage'], 'kwargs': {'content': '{\"amount\": 1.0, \"base\": \"USD\", \"date\": \"2025-05-13\", \"rates\": {\"SEK\": 9.7422}}', 'type': 'function', 'name': 'get_exchange_rate'}}]\n",
      "\n",
      "------\n",
      "\n",
      "Message:\n",
      "\n",
      "[{'lc': 1, 'type': 'constructor', 'id': ['langchain', 'schema', 'messages', 'AIMessage'], 'kwargs': {'content': 'The exchange rate from USD to SEK on 2025-05-13 was 9.7422.', 'type': 'ai', 'tool_calls': [], 'invalid_tool_calls': []}}]\n",
      "\n",
      "------\n",
      "\n",
      "Output:\n",
      "\n",
      "The exchange rate from USD to SEK on 2025-05-13 was 9.7422.\n"
     ]
    }
   ],
   "source": [
    "message_types = {\"actions\": \"Action\", \"messages\": \"Message\", \"output\": \"Output\"}\n",
    "for chunk in agent.stream_query(\n",
    "    input=f\"What's the exchange rate from USD to SEK {today}?\"\n",
    "):\n",
    "    for key, label in message_types.items():\n",
    "        if key in chunk:\n",
    "            print(\"\\n------\\n\")\n",
    "            print(f\"{label}:\")\n",
    "            print()\n",
    "            print(chunk[key])"
   ]
  },
  {
   "cell_type": "markdown",
   "metadata": {
    "id": "bbe3d34ec106"
   },
   "source": [
    "This allows you to observe the agent's actions in real-time (such as function calls, and intermediate steps), which is helpful for debugging purposes or for providing real-time updates to the end user."
   ]
  },
  {
   "cell_type": "markdown",
   "metadata": {
    "id": "77b0a9f0d75b"
   },
   "source": [
    "### Deploy your agent on Vertex AI\n",
    "\n",
    "Now that you've specified a model, tools, and reasoning for your agent and tested it out, you're ready to deploy your agent as a remote service in Vertex AI!\n",
    "\n",
    "<img width=\"40%\" src=\"https://storage.googleapis.com/github-repo/generative-ai/gemini/agent-engine/images/agent-stack-4.png\" alt=\"Components of an agent in Agent Engine on Vertex AI\" />\n",
    "\n",
    "You can re-define the agent to avoid any stateful information in the agent due to our testing in the previous cell:"
   ]
  },
  {
   "cell_type": "code",
   "execution_count": 9,
   "metadata": {
    "id": "b2f8365735d2",
    "tags": []
   },
   "outputs": [],
   "source": [
    "agent = LangchainAgent(\n",
    "    model=model,\n",
    "    tools=[get_exchange_rate],\n",
    ")"
   ]
  },
  {
   "cell_type": "markdown",
   "metadata": {
    "id": "ebe2c3be1ca6"
   },
   "source": [
    "Now you're ready to deploy your agent to Agent Engine in Vertex AI by calling `agent_engines.create()` along with:\n",
    "\n",
    "1. The instance of your agent class\n",
    "2. The Python packages and versions that your agent requires at runtime, similar to how you would define packages and versions in a `requirements.txt` file."
   ]
  },
  {
   "cell_type": "code",
   "execution_count": 12,
   "metadata": {
    "id": "fd3b88c73411",
    "tags": []
   },
   "outputs": [
    {
     "name": "stdout",
     "output_type": "stream",
     "text": [
      "Identified the following requirements: {'cloudpickle': '3.1.1', 'pydantic': '2.11.0', 'google-cloud-aiplatform': '1.92.0'}\n",
      "The following requirements are missing: {'cloudpickle', 'pydantic', 'google-cloud-aiplatform'}\n",
      "The following requirements are appended: {'pydantic==2.11.0', 'cloudpickle==3.1.1'}\n",
      "The final list of requirements: ['google-genai', 'langchain', 'langchain-google-vertexai', 'pydantic==2.11.0', 'cloudpickle==3.1.1']\n",
      "Using bucket qwiklabs-gcp-00-c4b13648302b-labconfig-bucket\n",
      "Wrote to gs://qwiklabs-gcp-00-c4b13648302b-labconfig-bucket/agent_engine/agent_engine.pkl\n",
      "Writing to gs://qwiklabs-gcp-00-c4b13648302b-labconfig-bucket/agent_engine/requirements.txt\n",
      "Creating in-memory tarfile of extra_packages\n",
      "Writing to gs://qwiklabs-gcp-00-c4b13648302b-labconfig-bucket/agent_engine/dependencies.tar.gz\n",
      "Creating AgentEngine\n",
      "Create AgentEngine backing LRO: projects/318444459587/locations/europe-west1/reasoningEngines/915391808635142144/operations/7380611164545220608\n",
      "View progress and logs at https://console.cloud.google.com/logs/query?project=qwiklabs-gcp-00-c4b13648302b\n",
      "AgentEngine created. Resource name: projects/318444459587/locations/europe-west1/reasoningEngines/915391808635142144\n",
      "To use this AgentEngine in another session:\n",
      "agent_engine = vertexai.agent_engines.get('projects/318444459587/locations/europe-west1/reasoningEngines/915391808635142144')\n"
     ]
    }
   ],
   "source": [
    "remote_agent = agent_engines.create(\n",
    "    agent,\n",
    "    requirements=[\n",
    "        \"google-genai\",\n",
    "        \"langchain\",\n",
    "        \"langchain-google-vertexai\",\n",
    "    ],\n",
    ")"
   ]
  },
  {
   "cell_type": "markdown",
   "metadata": {
    "id": "e698a4c3d786"
   },
   "source": [
    "Now you can send a prompt to your remote agent using `.query` to test that it's working as expected:"
   ]
  },
  {
   "cell_type": "code",
   "execution_count": 13,
   "metadata": {
    "id": "d01b37cb77dc",
    "tags": []
   },
   "outputs": [
    {
     "data": {
      "text/plain": [
       "{'output': 'The exchange rate from USD to SEK on 2025-05-13 was 9.7422.',\n",
       " 'input': \"What's the exchange rate from USD to SEK 2025-05-14?\"}"
      ]
     },
     "execution_count": 13,
     "metadata": {},
     "output_type": "execute_result"
    }
   ],
   "source": [
    "remote_agent.query(\n",
    "    input=f\"What's the exchange rate from USD to SEK {today}?\"\n",
    ")"
   ]
  },
  {
   "cell_type": "markdown",
   "metadata": {
    "id": "ff3620f5fa01"
   },
   "source": [
    "Or you can stream the results back from the remote agent interactively using `.stream_query`:"
   ]
  },
  {
   "cell_type": "code",
   "execution_count": 14,
   "metadata": {
    "id": "a4250671731e",
    "tags": []
   },
   "outputs": [
    {
     "name": "stdout",
     "output_type": "stream",
     "text": [
      "\n",
      "------\n",
      "\n",
      "Action:\n",
      "\n",
      "[{'lc': 1, 'type': 'constructor', 'id': ['langchain', 'schema', 'agent', 'ToolAgentAction'], 'kwargs': {'tool': 'get_exchange_rate', 'tool_input': {'currency_from': 'USD', 'currency_date': '2025-05-14', 'currency_to': 'SEK'}, 'log': \"\\nInvoking: `get_exchange_rate` with `{'currency_from': 'USD', 'currency_date': '2025-05-14', 'currency_to': 'SEK'}`\\n\\n\\n\", 'type': 'AgentActionMessageLog', 'message_log': [{'lc': 1, 'type': 'constructor', 'id': ['langchain', 'schema', 'messages', 'AIMessageChunk'], 'kwargs': {'content': '', 'additional_kwargs': {'function_call': {'name': 'get_exchange_rate', 'arguments': '{\"currency_from\": \"USD\", \"currency_date\": \"2025-05-14\", \"currency_to\": \"SEK\"}'}}, 'response_metadata': {'safety_ratings': [], 'usage_metadata': {}, 'finish_reason': 'STOP', 'model_name': 'gemini-2.0-flash'}, 'type': 'AIMessageChunk', 'id': 'run--03cb9c7f-2691-4b17-8169-d112b023af48', 'tool_calls': [{'name': 'get_exchange_rate', 'args': {'currency_from': 'USD', 'currency_date': '2025-05-14', 'currency_to': 'SEK'}, 'id': '04bebd59-f6b0-45a1-97ab-f1a302095d24', 'type': 'tool_call'}], 'usage_metadata': {'input_tokens': 56, 'output_tokens': 26, 'total_tokens': 82}, 'tool_call_chunks': [{'name': 'get_exchange_rate', 'args': '{\"currency_from\": \"USD\", \"currency_date\": \"2025-05-14\", \"currency_to\": \"SEK\"}', 'id': '04bebd59-f6b0-45a1-97ab-f1a302095d24', 'index': None, 'type': 'tool_call_chunk'}], 'invalid_tool_calls': []}}], 'tool_call_id': '04bebd59-f6b0-45a1-97ab-f1a302095d24'}}]\n",
      "\n",
      "------\n",
      "\n",
      "Message:\n",
      "\n",
      "[{'lc': 1, 'type': 'constructor', 'id': ['langchain', 'schema', 'messages', 'AIMessageChunk'], 'kwargs': {'content': '', 'additional_kwargs': {'function_call': {'name': 'get_exchange_rate', 'arguments': '{\"currency_from\": \"USD\", \"currency_date\": \"2025-05-14\", \"currency_to\": \"SEK\"}'}}, 'response_metadata': {'safety_ratings': [], 'usage_metadata': {}, 'finish_reason': 'STOP', 'model_name': 'gemini-2.0-flash'}, 'type': 'AIMessageChunk', 'id': 'run--03cb9c7f-2691-4b17-8169-d112b023af48', 'tool_calls': [{'name': 'get_exchange_rate', 'args': {'currency_from': 'USD', 'currency_date': '2025-05-14', 'currency_to': 'SEK'}, 'id': '04bebd59-f6b0-45a1-97ab-f1a302095d24', 'type': 'tool_call'}], 'usage_metadata': {'input_tokens': 56, 'output_tokens': 26, 'total_tokens': 82}, 'tool_call_chunks': [{'name': 'get_exchange_rate', 'args': '{\"currency_from\": \"USD\", \"currency_date\": \"2025-05-14\", \"currency_to\": \"SEK\"}', 'id': '04bebd59-f6b0-45a1-97ab-f1a302095d24', 'index': None, 'type': 'tool_call_chunk'}], 'invalid_tool_calls': []}}]\n",
      "\n",
      "------\n",
      "\n",
      "Message:\n",
      "\n",
      "[{'lc': 1, 'type': 'constructor', 'id': ['langchain', 'schema', 'messages', 'FunctionMessage'], 'kwargs': {'content': '{\"amount\": 1.0, \"base\": \"USD\", \"date\": \"2025-05-13\", \"rates\": {\"SEK\": 9.7422}}', 'type': 'function', 'name': 'get_exchange_rate'}}]\n",
      "\n",
      "------\n",
      "\n",
      "Message:\n",
      "\n",
      "[{'lc': 1, 'type': 'constructor', 'id': ['langchain', 'schema', 'messages', 'AIMessage'], 'kwargs': {'content': 'The exchange rate from USD to SEK on 2025-05-13 was 9.7422.', 'type': 'ai', 'tool_calls': [], 'invalid_tool_calls': []}}]\n",
      "\n",
      "------\n",
      "\n",
      "Output:\n",
      "\n",
      "The exchange rate from USD to SEK on 2025-05-13 was 9.7422.\n"
     ]
    }
   ],
   "source": [
    "message_types = {\"actions\": \"Action\", \"messages\": \"Message\", \"output\": \"Output\"}\n",
    "for chunk in remote_agent.stream_query(\n",
    "    input=f\"What's the exchange rate from USD to SEK {today}?\"\n",
    "):\n",
    "    for key, label in message_types.items():\n",
    "        if key in chunk:\n",
    "            print(\"\\n------\\n\")\n",
    "            print(f\"{label}:\")\n",
    "            print()\n",
    "            print(chunk[key])"
   ]
  },
  {
   "cell_type": "markdown",
   "metadata": {
    "id": "9f2f7d3ed7bd"
   },
   "source": [
    "### Querying your deployed agent\n",
    "\n",
    "You've now deployed your agent and can [interact with it in multiple ways](https://cloud.google.com/vertex-ai/generative-ai/docs/agent-engine/use/overview), both within this notebook and from other applications or environments. The primary methods for accessing your deployed agent are via the Python client library or through REST API calls. Here's an overview of both methods:\n",
    "\n",
    "**Method 1: Reusing within this notebook or another Python environment**\n",
    "\n",
    "You can directly reuse and query the `remote_agent` instance you created in this notebook.\n",
    "\n",
    "Or, you can instantiate a new instance in another notebook or Python script. To do this, you'll need to retrieve your deployed agent's resource name that uniquely identifies your agent, which is a string that includes the project, location, and Agent Engine ID. You can retrieve it by running the following code in the notebook or environment where you created your agent:"
   ]
  },
  {
   "cell_type": "code",
   "execution_count": 15,
   "metadata": {
    "id": "fdaf8b91413f",
    "tags": []
   },
   "outputs": [
    {
     "data": {
      "text/plain": [
       "'projects/318444459587/locations/europe-west1/reasoningEngines/915391808635142144'"
      ]
     },
     "execution_count": 15,
     "metadata": {},
     "output_type": "execute_result"
    }
   ],
   "source": [
    "remote_agent.resource_name"
   ]
  },
  {
   "cell_type": "markdown",
   "metadata": {
    "id": "060f8369d113"
   },
   "source": [
    "Use the resource name to load the agent in your other notebook or Python script, then query the remote agent as usual:"
   ]
  },
  {
   "cell_type": "code",
   "execution_count": 17,
   "metadata": {
    "id": "78af4442827e"
   },
   "outputs": [],
   "source": [
    "# from vertexai import agent_engines\n",
    "\n",
    "# AGENT_ENGINE_RESOURCE_NAME = \"YOUR_AGENT_ENGINE_RESOURCE_NAME\"  # Replace with the resource name of your deployed Agent Engine\n",
    "\n",
    "# remote_agent = agent_engines.get(AGENT_ENGINE_RESOURCE_NAME)\n",
    "# response = remote_agent.query(input=query)"
   ]
  },
  {
   "cell_type": "code",
   "execution_count": 18,
   "metadata": {
    "tags": []
   },
   "outputs": [],
   "source": [
    "from vertexai import agent_engines\n",
    "\n",
    "AGENT_ENGINE_RESOURCE_NAME = \"projects/318444459587/locations/europe-west1/reasoningEngines/915391808635142144\"  # Replace with the resource name of your deployed Agent Engine\n",
    "\n",
    "remote_agent = agent_engines.get(AGENT_ENGINE_RESOURCE_NAME)\n",
    "\n",
    "query=f\"What's the exchange rate from USD to SEK {today}?\"\n",
    "\n",
    "response = remote_agent.query(input=query)"
   ]
  },
  {
   "cell_type": "code",
   "execution_count": 19,
   "metadata": {
    "tags": []
   },
   "outputs": [
    {
     "name": "stdout",
     "output_type": "stream",
     "text": [
      "{'output': 'The exchange rate from USD to SEK on 2025-05-13 was 9.7422.', 'input': \"What's the exchange rate from USD to SEK 2025-05-14?\"}\n"
     ]
    }
   ],
   "source": [
    "print(response)"
   ]
  },
  {
   "cell_type": "markdown",
   "metadata": {
    "id": "63ab06554fc0"
   },
   "source": [
    "**Method 2: Accessing from other environments via REST API**\n",
    "\n",
    "Beyond the Python client library, your deployed Vertex AI agent can be [queried using REST API calls](https://cloud.google.com/vertex-ai/generative-ai/docs/agent-engine/use/overview), including:\n",
    "\n",
    "- Python: You can use Python's `requests` library or similar tools to make HTTP calls to the Vertex AI REST API.\n",
    "- cURL: A command-line tool, cURL allows you to send HTTP requests directly. This is useful for testing and debugging.\n",
    "- Other Programming Languages: If you prefer a different language for your application, you can use its native HTTP client library to make REST API calls.\n",
    "\n",
    "In summary, you have access to your deployed agent through the Python client library within Python environments, and more universally through its REST API via tools and programming languages of your choosing."
   ]
  },
  {
   "cell_type": "code",
   "execution_count": 21,
   "metadata": {
    "tags": []
   },
   "outputs": [
    {
     "name": "stdout",
     "output_type": "stream",
     "text": [
      "Requirement already satisfied: requests in /opt/conda/lib/python3.10/site-packages (2.32.3)\n",
      "Requirement already satisfied: charset_normalizer<4,>=2 in /opt/conda/lib/python3.10/site-packages (from requests) (3.4.1)\n",
      "Requirement already satisfied: idna<4,>=2.5 in /opt/conda/lib/python3.10/site-packages (from requests) (3.10)\n",
      "Requirement already satisfied: urllib3<3,>=1.21.1 in /opt/conda/lib/python3.10/site-packages (from requests) (1.26.20)\n",
      "Requirement already satisfied: certifi>=2017.4.17 in /opt/conda/lib/python3.10/site-packages (from requests) (2025.1.31)\n"
     ]
    }
   ],
   "source": [
    "!pip install requests"
   ]
  },
  {
   "cell_type": "code",
   "execution_count": 20,
   "metadata": {
    "tags": []
   },
   "outputs": [
    {
     "name": "stdout",
     "output_type": "stream",
     "text": [
      "ya29.c.c0ASRK0GY5VEZ51k--7NW2x_h40RSBILi2XoR3OQlAKtPwW7UTjzT_jvI_JoD3UH6DtOrNV47PRuN0sznQj0agVavqgTKByHBsdFQfFIg7x_7Wa5QbDAyVJbMbeihq0edMHs6IOMFsq5BH58-iqapdVCHHP8OXnw6jG56nRqs4VcBbYaRDYjbc2y7sY1mqWsWcrXJZUZpRnD8wQ-pYZ7KhRUPYUJRPKsDMqyWOY2v50nAqGyHAKu3G4WBW3bIECGfnasBtUNzBkbGaMEQNEMoLY1OxxGP5UTKbIkvyO5yT5ztMcCs8sZekt0wyvo8FCivVqb7TQA0rTqGP7lzGXYfIdq0u9RqxKEWvFSGapQD2q1M9z_QHcGfiaEVE-2z-YFWqYFKgGgJ6QkYjqtIe_VRBG413KV5p6z0tcMOxsV06gV0x3ImouyzMj4IkIBR2dRprjfc5SXYFbyZoo23RMkV5kWymIhwU9_IF_1xXZzmbX1bMWn1YmWJM615aipkwtQ_lZSQy-OnJBd0OtMaFjX0RdZYFZx7coafYajhBpO_1buOl8w2vfSeeUahmltgpXqj3ju2oqzodhFajyhdY542_F7Ikj_9FnyozodgWgUk5Z9udixjQckuBbR37Rk5JBleSOya69q9cynr1VScXyWuWOj_FuvnW8kYXo51xhejnkO4FVwz565Faec4rcJwfplabtwJfuIjeW8bz9X9kkOuUbj3lbgX1hlyh_SF6IR8Ujie7U3O5WM_8X34InWhlmdcRS8jx0WuRxvStowhFOwqmjVzxXir6lUog-huFe19a0OF87hM-exYxWrSn4sXtWUl1u2y2akQISfp359Jky3R_Xwe0hR9M-3cdIjaUV44Sz9XIokjW7udWmMz7YdmkSBWqSy-gn5joXqQ-Xr4Jsx9qvdzuJt490ZSOo-uXRFWoXgUYSuxqYFouFg41lFwFWjSrw_7rROfxvRwh0oX-yXROn-mBiiJemuXIhrVfIXoya7y-ytsXadz240e\n"
     ]
    }
   ],
   "source": [
    "!gcloud auth print-access-token"
   ]
  },
  {
   "cell_type": "code",
   "execution_count": 22,
   "metadata": {
    "tags": []
   },
   "outputs": [],
   "source": [
    "import requests\n",
    "import json\n",
    "from datetime import date\n",
    "\n",
    "# 1. Configuration\n",
    "agent_engine_resource_name = \"projects/318444459587/locations/europe-west1/reasoningEngines/915391808635142144\"  # Replace with your Agent Engine resource name\n",
    "location = \"europe-west1\"  # Replace with your Agent Engine location\n",
    "access_token = \"ya29.c.c0ASRK0GY5VEZ51k--7NW2x_h40RSBILi2XoR3OQlAKtPwW7UTjzT_jvI_JoD3UH6DtOrNV47PRuN0sznQj0agVavqgTKByHBsdFQfFIg7x_7Wa5QbDAyVJbMbeihq0edMHs6IOMFsq5BH58-iqapdVCHHP8OXnw6jG56nRqs4VcBbYaRDYjbc2y7sY1mqWsWcrXJZUZpRnD8wQ-pYZ7KhRUPYUJRPKsDMqyWOY2v50nAqGyHAKu3G4WBW3bIECGfnasBtUNzBkbGaMEQNEMoLY1OxxGP5UTKbIkvyO5yT5ztMcCs8sZekt0wyvo8FCivVqb7TQA0rTqGP7lzGXYfIdq0u9RqxKEWvFSGapQD2q1M9z_QHcGfiaEVE-2z-YFWqYFKgGgJ6QkYjqtIe_VRBG413KV5p6z0tcMOxsV06gV0x3ImouyzMj4IkIBR2dRprjfc5SXYFbyZoo23RMkV5kWymIhwU9_IF_1xXZzmbX1bMWn1YmWJM615aipkwtQ_lZSQy-OnJBd0OtMaFjX0RdZYFZx7coafYajhBpO_1buOl8w2vfSeeUahmltgpXqj3ju2oqzodhFajyhdY542_F7Ikj_9FnyozodgWgUk5Z9udixjQckuBbR37Rk5JBleSOya69q9cynr1VScXyWuWOj_FuvnW8kYXo51xhejnkO4FVwz565Faec4rcJwfplabtwJfuIjeW8bz9X9kkOuUbj3lbgX1hlyh_SF6IR8Ujie7U3O5WM_8X34InWhlmdcRS8jx0WuRxvStowhFOwqmjVzxXir6lUog-huFe19a0OF87hM-exYxWrSn4sXtWUl1u2y2akQISfp359Jky3R_Xwe0hR9M-3cdIjaUV44Sz9XIokjW7udWmMz7YdmkSBWqSy-gn5joXqQ-Xr4Jsx9qvdzuJt490ZSOo-uXRFWoXgUYSuxqYFouFg41lFwFWjSrw_7rROfxvRwh0oX-yXROn-mBiiJemuXIhrVfIXoya7y-ytsXadz240e\"  # Replace with the token obtained from 'gcloud auth print-access-token'\n"
   ]
  },
  {
   "cell_type": "code",
   "execution_count": 23,
   "metadata": {
    "tags": []
   },
   "outputs": [],
   "source": [
    "# 2. Construct the API Endpoint URL\n",
    "api_endpoint = f\"https://{location}-aiplatform.googleapis.com/v1beta1/{agent_engine_resource_name}:query\"\n",
    "\n",
    "# 3. Prepare the Request Headers\n",
    "headers = {\n",
    "    \"Authorization\": f\"Bearer {access_token}\",\n",
    "    \"Content-Type\": \"application/json\",\n",
    "}"
   ]
  },
  {
   "cell_type": "code",
   "execution_count": 29,
   "metadata": {
    "tags": []
   },
   "outputs": [
    {
     "name": "stdout",
     "output_type": "stream",
     "text": [
      "API Response:\n",
      "{'output': {'output': 'OK. The exchange rate from USD to SEK on 2025-05-13 is 9.7422.', 'input': \"What's the exchange rate from USD to SEK 2025-05-14?\"}}\n",
      "\n",
      "Agent Output: {'output': 'OK. The exchange rate from USD to SEK on 2025-05-13 is 9.7422.', 'input': \"What's the exchange rate from USD to SEK 2025-05-14?\"}\n"
     ]
    }
   ],
   "source": [
    "# 4. Prepare the Request Body (Payload)\n",
    "today = str(date.today())\n",
    "#query_input \n",
    "query_string = f\"What's the exchange rate from USD to SEK {today}?\"\n",
    "#payload = {\n",
    "#    \"input\": query_input\n",
    "#}\n",
    "\n",
    "payload = {\n",
    "    \"input\": {  # This 'input' field must be a JSON object (Struct)\n",
    "        \"input\": query_string  # We'll assume the agent expects the query string under a key named \"input\" within the Struct.\n",
    "                               # If this specific key doesn't work, common alternatives are \"query\", \"text\", or \"prompt\".\n",
    "                               # You may need to check your Agent's tool input schema if \"input\" as a key doesn't work.\n",
    "    }\n",
    "}\n",
    "\n",
    "# 5. Make the POST Request\n",
    "try:\n",
    "    response = requests.post(api_endpoint, headers=headers, data=json.dumps(payload))\n",
    "    response.raise_for_status()  # Raises an HTTPError for bad responses (4XX or 5XX)\n",
    "\n",
    "    # 6. Process the Response\n",
    "    response_data = response.json()\n",
    "    print(\"API Response:\")\n",
    "    print(response_data)\n",
    "    # Example of accessing specific parts of the response, matching your previous output structure\n",
    "    # This might vary slightly depending on the exact API version and agent configuration\n",
    "    if 'output' in response_data:\n",
    "        print(f\"\\nAgent Output: {response_data['output']}\")\n",
    "    if 'input' in response_data: # The API might return the processed input or the original one\n",
    "        print(f\"Processed Input by Agent: {response_data.get('input', 'N/A')}\")\n",
    "\n",
    "except requests.exceptions.HTTPError as http_err:\n",
    "    print(f\"HTTP error occurred: {http_err}\")\n",
    "    print(f\"Response content: {response.content}\")\n",
    "except Exception as err:\n",
    "    print(f\"Other error occurred: {err}\")"
   ]
  },
  {
   "cell_type": "markdown",
   "metadata": {
    "id": "82d321fd62e0"
   },
   "source": [
    "## Customizing your agent"
   ]
  },
  {
   "cell_type": "markdown",
   "metadata": {
    "id": "353d586b9b1b"
   },
   "source": [
    "The example above includes the minimal amount of configuration required for each component within the agent to help you get started.\n",
    "\n",
    "But what if you want to swap to a different Gemini model version, change the generative model parameters or safety filters, or perform additional customizations to the agent? The following example shows some of the most common parameters that you'll want to customize in your agent. Agent Engine in Vertex AI works with [Gemini model versions that support Function Calling](https://cloud.google.com/vertex-ai/generative-ai/docs/multimodal/function-calling) and LangChain agents."
   ]
  },
  {
   "cell_type": "markdown",
   "metadata": {
    "id": "fdda38e6dc6b"
   },
   "source": [
    "### Model configuration\n",
    "\n",
    "You'll start with customizations for the model component within your agent. Refer to the Vertex AI documentation for more information about configuration parameters related to [generative AI model versions](https://cloud.google.com/vertex-ai/generative-ai/docs/learn/model-versioning), [safety attributes](https://cloud.google.com/vertex-ai/generative-ai/docs/multimodal/configure-safety-attributes), and [model parameters](https://ai.google.dev/gemini-api/docs/models/gemini#model-attributes):"
   ]
  },
  {
   "cell_type": "code",
   "execution_count": 18,
   "metadata": {
    "id": "5408d3da2726"
   },
   "outputs": [],
   "source": [
    "## Model variant and version\n",
    "model = \"gemini-2.0-flash\"\n",
    "\n",
    "## Model safety settings\n",
    "from langchain_google_vertexai import HarmBlockThreshold, HarmCategory\n",
    "\n",
    "safety_settings = {\n",
    "    HarmCategory.HARM_CATEGORY_UNSPECIFIED: HarmBlockThreshold.BLOCK_NONE,\n",
    "    HarmCategory.HARM_CATEGORY_SEXUALLY_EXPLICIT: HarmBlockThreshold.BLOCK_NONE,\n",
    "    HarmCategory.HARM_CATEGORY_HARASSMENT: HarmBlockThreshold.BLOCK_LOW_AND_ABOVE,\n",
    "    HarmCategory.HARM_CATEGORY_DANGEROUS_CONTENT: HarmBlockThreshold.BLOCK_MEDIUM_AND_ABOVE,\n",
    "    HarmCategory.HARM_CATEGORY_HATE_SPEECH: HarmBlockThreshold.BLOCK_ONLY_HIGH,\n",
    "}\n",
    "\n",
    "## Model parameters\n",
    "model_kwargs = {\n",
    "    \"temperature\": 0.3,\n",
    "    \"max_output_tokens\": 1000,\n",
    "    \"top_p\": 0.95,\n",
    "    \"top_k\": 40,\n",
    "    \"safety_settings\": safety_settings,\n",
    "}"
   ]
  },
  {
   "cell_type": "markdown",
   "metadata": {
    "id": "5e48ed43107e"
   },
   "source": [
    "### Agent configuration\n",
    "\n",
    "You can also customize aspects of the agent component, including whether it should return all of the intermediate steps for a given input prompt and output response, maximum number of iterations, how to handle parsing errors, and the size of the sliding context window that the agent has visibility into:"
   ]
  },
  {
   "cell_type": "code",
   "execution_count": 19,
   "metadata": {
    "id": "08623f46a9e4"
   },
   "outputs": [],
   "source": [
    "# Agent parameters\n",
    "agent_executor_kwargs = {\n",
    "    \"return_intermediate_steps\": True,\n",
    "    \"max_iterations\": 3,\n",
    "    \"handle_parsing_errors\": False,\n",
    "    \"trim_intermediate_steps\": -1,\n",
    "}"
   ]
  },
  {
   "cell_type": "markdown",
   "metadata": {
    "id": "164b7a580493"
   },
   "source": [
    "Each component within your agent has additional parameters that can be customized or overridden, including the system instructions, preamble prompts, ability to manage chat sessions and history so that your agent maintains context between multi-turn queries.\n",
    "\n",
    "Each component within your agent (model, tools, reasoning) is modular and composable so that you can customize your agent as little or as much as you want.\n",
    "\n",
    "Refer to the [Agent Engine documentation in Vertex AI](https://cloud.google.com/vertex-ai/generative-ai/docs/agent-engine/overview) for more details on each agent component and the available options for customization."
   ]
  },
  {
   "cell_type": "markdown",
   "metadata": {
    "id": "6415b2a47a0e"
   },
   "source": [
    "## 정리\n",
    "- 작업을 마친 후에는 클라우드 리소스를 정리하는 것이 좋습니다.\n",
    "    - 배포된 Agent Engine 인스턴스를 삭제할 수 있습니다.   \n",
    "    - Google Cloud 계정에 예상치 못한 요금이 발생하는 것을 방지할 수 있습니다."
   ]
  },
  {
   "cell_type": "code",
   "execution_count": 20,
   "metadata": {
    "id": "7cec827288b7"
   },
   "outputs": [],
   "source": [
    "remote_agent.delete()"
   ]
  }
 ],
 "metadata": {
  "colab": {
   "name": "intro_agent_engine.ipynb",
   "toc_visible": true
  },
  "environment": {
   "kernel": "conda-base-py",
   "name": "workbench-notebooks.m129",
   "type": "gcloud",
   "uri": "us-docker.pkg.dev/deeplearning-platform-release/gcr.io/workbench-notebooks:m129"
  },
  "kernelspec": {
   "display_name": "Python 3 (ipykernel)",
   "language": "python",
   "name": "python3"
  },
  "language_info": {
   "codemirror_mode": {
    "name": "ipython",
    "version": 3
   },
   "file_extension": ".py",
   "mimetype": "text/x-python",
   "name": "python",
   "nbconvert_exporter": "python",
   "pygments_lexer": "ipython3",
   "version": "3.12.3"
  }
 },
 "nbformat": 4,
 "nbformat_minor": 4
}
