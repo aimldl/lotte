# Copyright 2024 Google LLC
#
# Licensed under the Apache License, Version 2.0 (the "License");
# you may not use this file except in compliance with the License.
# You may obtain a copy of the License at
#
#     https://www.apache.org/licenses/LICENSE-2.0
#
# Unless required by applicable law or agreed to in writing, software
# distributed under the License is distributed on an "AS IS" BASIS,
# WITHOUT WARRANTIES OR CONDITIONS OF ANY KIND, either express or implied.
# See the License for the specific language governing permissions and
# limitations under the License.






































%pip install --upgrade --quiet google-genai
%pip install --upgrade --quiet langchain
%pip install --upgrade --quiet langchain-google-vertexai





# Restart kernel after installs so that your environment can access the new packages
import IPython

app = IPython.Application.instance()
app.kernel.do_shutdown(True)








import sys

if "google.colab" in sys.modules:
    from google.colab import auth

    auth.authenticate_user()

















PROJECT_ID = "qwiklabs-gcp-00-b89ebc63afce"  # @param {type:"string"}
LOCATION = "us-central1"  # @param {type:"string"}
STAGING_BUCKET = "gs://qwiklabs-gcp-00-b89ebc63afce"  # @param {type:"string"}


import vertexai

vertexai.init(project=PROJECT_ID, location=LOCATION, staging_bucket=STAGING_BUCKET)











from vertexai import agent_engines
from vertexai.preview.reasoning_engines import LangchainAgent








#model = "gemini-2.0-flash"


model = "gemini-2.5-pro-preview-05-06"








def get_exchange_rate(
    currency_from: str = "USD",
    currency_to: str = "EUR",
    currency_date: str = "latest",
):
    """Retrieves the exchange rate between two currencies on a specified date."""
    import requests

    response = requests.get(
        f"https://api.frankfurter.app/{currency_date}",
        params={"from": currency_from, "to": currency_to},
    )
    return response.json()











get_exchange_rate(currency_from="USD", currency_to="SEK")





get_exchange_rate(currency_from="USD", currency_to="KRW")











agent = LangchainAgent(
    model=model,
    tools=[get_exchange_rate],
    agent_executor_kwargs={"return_intermediate_steps": True},
)





from datetime import date
today = str(date.today())
agent.query(input=f"What's the exchange rate from USD to SEK {today}?")





message_types = {"actions": "Action", "messages": "Message", "output": "Output"}
for chunk in agent.stream_query(
    input=f"What's the exchange rate from USD to SEK {today}?"
):
    for key, label in message_types.items():
        if key in chunk:
            print("\n------\n")
            print(f"{label}:")
            print()
            print(chunk[key])





agent = LangchainAgent(
    model=model,
    tools=[get_exchange_rate],
)





remote_agent = agent_engines.create(
    agent,
    requirements=[
        "google-genai",
        "langchain",
        "langchain-google-vertexai",
    ],
)


import datetime

# Get the current date and time
now = datetime.datetime.now()
print(now)





remote_agent.query(
    input=f"What's the exchange rate from USD to SEK {today}?"
)





message_types = {"actions": "Action", "messages": "Message", "output": "Output"}
for chunk in remote_agent.stream_query(
    input=f"What's the exchange rate from USD to SEK {today}?"
):
    for key, label in message_types.items():
        if key in chunk:
            print("\n------\n")
            print(f"{label}:")
            print()
            print(chunk[key])





remote_agent.resource_name





# from vertexai import agent_engines

# AGENT_ENGINE_RESOURCE_NAME = "YOUR_AGENT_ENGINE_RESOURCE_NAME"  # Replace with the resource name of your deployed Agent Engine

# remote_agent = agent_engines.get(AGENT_ENGINE_RESOURCE_NAME)
# response = remote_agent.query(input=query)


from vertexai import agent_engines

AGENT_ENGINE_RESOURCE_NAME = "projects/318444459587/locations/europe-west1/reasoningEngines/915391808635142144"  # Replace with the resource name of your deployed Agent Engine

remote_agent = agent_engines.get(AGENT_ENGINE_RESOURCE_NAME)

query=f"What's the exchange rate from USD to SEK {today}?"

response = remote_agent.query(input=query)


print(response)





!pip install requests


!gcloud auth print-access-token


import requests
import json
from datetime import date

# 1. Configuration
agent_engine_resource_name = "projects/318444459587/locations/europe-west1/reasoningEngines/915391808635142144"  # Replace with your Agent Engine resource name
location = "europe-west1"  # Replace with your Agent Engine location
access_token = "ya29.c.c0ASRK0GY5VEZ51k--7NW2x_h40RSBILi2XoR3OQlAKtPwW7UTjzT_jvI_JoD3UH6DtOrNV47PRuN0sznQj0agVavqgTKByHBsdFQfFIg7x_7Wa5QbDAyVJbMbeihq0edMHs6IOMFsq5BH58-iqapdVCHHP8OXnw6jG56nRqs4VcBbYaRDYjbc2y7sY1mqWsWcrXJZUZpRnD8wQ-pYZ7KhRUPYUJRPKsDMqyWOY2v50nAqGyHAKu3G4WBW3bIECGfnasBtUNzBkbGaMEQNEMoLY1OxxGP5UTKbIkvyO5yT5ztMcCs8sZekt0wyvo8FCivVqb7TQA0rTqGP7lzGXYfIdq0u9RqxKEWvFSGapQD2q1M9z_QHcGfiaEVE-2z-YFWqYFKgGgJ6QkYjqtIe_VRBG413KV5p6z0tcMOxsV06gV0x3ImouyzMj4IkIBR2dRprjfc5SXYFbyZoo23RMkV5kWymIhwU9_IF_1xXZzmbX1bMWn1YmWJM615aipkwtQ_lZSQy-OnJBd0OtMaFjX0RdZYFZx7coafYajhBpO_1buOl8w2vfSeeUahmltgpXqj3ju2oqzodhFajyhdY542_F7Ikj_9FnyozodgWgUk5Z9udixjQckuBbR37Rk5JBleSOya69q9cynr1VScXyWuWOj_FuvnW8kYXo51xhejnkO4FVwz565Faec4rcJwfplabtwJfuIjeW8bz9X9kkOuUbj3lbgX1hlyh_SF6IR8Ujie7U3O5WM_8X34InWhlmdcRS8jx0WuRxvStowhFOwqmjVzxXir6lUog-huFe19a0OF87hM-exYxWrSn4sXtWUl1u2y2akQISfp359Jky3R_Xwe0hR9M-3cdIjaUV44Sz9XIokjW7udWmMz7YdmkSBWqSy-gn5joXqQ-Xr4Jsx9qvdzuJt490ZSOo-uXRFWoXgUYSuxqYFouFg41lFwFWjSrw_7rROfxvRwh0oX-yXROn-mBiiJemuXIhrVfIXoya7y-ytsXadz240e"  # Replace with the token obtained from 'gcloud auth print-access-token'



# 2. Construct the API Endpoint URL
api_endpoint = f"https://{location}-aiplatform.googleapis.com/v1beta1/{agent_engine_resource_name}:query"

# 3. Prepare the Request Headers
headers = {
    "Authorization": f"Bearer {access_token}",
    "Content-Type": "application/json",
}


# 4. Prepare the Request Body (Payload)
today = str(date.today())
#query_input 
query_string = f"What's the exchange rate from USD to SEK {today}?"
#payload = {
#    "input": query_input
#}

payload = {
    "input": {  # This 'input' field must be a JSON object (Struct)
        "input": query_string  # We'll assume the agent expects the query string under a key named "input" within the Struct.
                               # If this specific key doesn't work, common alternatives are "query", "text", or "prompt".
                               # You may need to check your Agent's tool input schema if "input" as a key doesn't work.
    }
}

# 5. Make the POST Request
try:
    response = requests.post(api_endpoint, headers=headers, data=json.dumps(payload))
    response.raise_for_status()  # Raises an HTTPError for bad responses (4XX or 5XX)

    # 6. Process the Response
    response_data = response.json()
    print("API Response:")
    print(response_data)
    # Example of accessing specific parts of the response, matching your previous output structure
    # This might vary slightly depending on the exact API version and agent configuration
    if 'output' in response_data:
        print(f"\nAgent Output: {response_data['output']}")
    if 'input' in response_data: # The API might return the processed input or the original one
        print(f"Processed Input by Agent: {response_data.get('input', 'N/A')}")

except requests.exceptions.HTTPError as http_err:
    print(f"HTTP error occurred: {http_err}")
    print(f"Response content: {response.content}")
except Exception as err:
    print(f"Other error occurred: {err}")











## Model variant and version
model = "gemini-2.0-flash"

## Model safety settings
from langchain_google_vertexai import HarmBlockThreshold, HarmCategory

safety_settings = {
    HarmCategory.HARM_CATEGORY_UNSPECIFIED: HarmBlockThreshold.BLOCK_NONE,
    HarmCategory.HARM_CATEGORY_SEXUALLY_EXPLICIT: HarmBlockThreshold.BLOCK_NONE,
    HarmCategory.HARM_CATEGORY_HARASSMENT: HarmBlockThreshold.BLOCK_LOW_AND_ABOVE,
    HarmCategory.HARM_CATEGORY_DANGEROUS_CONTENT: HarmBlockThreshold.BLOCK_MEDIUM_AND_ABOVE,
    HarmCategory.HARM_CATEGORY_HATE_SPEECH: HarmBlockThreshold.BLOCK_ONLY_HIGH,
}

## Model parameters
model_kwargs = {
    "temperature": 0.3,
    "max_output_tokens": 1000,
    "top_p": 0.95,
    "top_k": 40,
    "safety_settings": safety_settings,
}





# Agent parameters
agent_executor_kwargs = {
    "return_intermediate_steps": True,
    "max_iterations": 3,
    "handle_parsing_errors": False,
    "trim_intermediate_steps": -1,
}








remote_agent.delete()
